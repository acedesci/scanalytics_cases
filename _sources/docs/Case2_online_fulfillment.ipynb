{
 "cells": [
  {
   "cell_type": "markdown",
   "id": "318a2a00-a22c-4427-943a-a4a64e86f046",
   "metadata": {},
   "source": [
    "# Case: Online fulfillment - US online retail"
   ]
  },
  {
   "cell_type": "markdown",
   "id": "b8d9c8ef-68e6-4271-82d8-33a53561dae5",
   "metadata": {},
   "source": [
    "**Case Reference:**\n",
    "Acimovic, J., & Graves, S. C. (2015). Making better fulfillment decisions on the fly in an online retail environment. Manufacturing & Service Operations Management, 17(1), 34-51.\n",
    "\n",
    "## Overview of the case:\n",
    "This case describes how an online retail company uses a combination of techniques to optimize their fulfillment decisions in an online fashion and reduce outbound shipping costs.   \n",
    "\n",
    "**Challenges Faced by the Company**\n",
    "\n",
    "The company faces two main challenges in its online retail operations:   \n",
    "\n",
    "**- Myopic Fulfillment Decisions:** The company's current approach to fulfilling orders is myopic, meaning they consider only the cheapest shipping option for each order based on their current inventory position, without considering potential future costs. This can lead to higher overall shipping costs in the long run.   \n",
    "**- Inventory Management:** The company needs to effectively manage inventory levels across multiple fulfillment centers (FCs) to avoid stockouts while minimizing holding costs.   \n",
    "\n",
    "**Solution Approach:**\n",
    "\n",
    "The research paper proposes a solution that leverages both approximate dynamic programming and linear programming to address these challenges.   \n",
    "\n",
    "**- Approximate Dynamic Programming:** A heuristic is developed based on approximate dynamic programming to make fulfillment decisions in an online fashion for each order recieved. This heuristic considers not only the immediate shipping cost of fulfilling an order from a particular FC, but also the estimated future shipping costs based on the impact on future inventory levels.   \n",
    "\n",
    "**- Linear Programming (LP):** An LP model is used to anticipate the future costs based on a future inventory position that is the result of the fulfillment decision (i.e., which fulfillment center(s) to fulfill this current order received) by considering the antipicated demands and inventory positions across all FCs. Rather than solving a large number of LPs, a calculation derived from the dual values of the LP, can be used to determine which fulfillment center should be used for the current order to minimize the current and future shipping costs.   \n",
    "\n",
    "**Reduced Shipping Costs**\n",
    "\n",
    "The proposed approach helps reduce outbound shipping costs by making more strategic fulfillment decisions. Here's how it achieves that:   \n",
    "\n",
    "**-Forward-Looking Decisions:** By considering the impact of current fulfillment decisions on future inventory levels and shipping costs, the heuristic can choose options that minimize overall shipping costs over time, rather than just focusing on the cheapest option for the immediate order.   \n",
    "\n",
    "**-Inventory Optimization:** The LP-based approach helps identify opportunities to better allocate inventory across FCs, potentially reducing the need for expensive expedited shipments in the future.   \n",
    "\n",
    "The case mentions that the company has implemented the proposed heuristic and achieved a reduction in outbound shipping costs on the order of 1%, while capturing 36% of the potential opportunity for improvement. These results suggest that the approach can generate significant cost savings for the company."
   ]
  },
  {
   "cell_type": "code",
   "execution_count": null,
   "id": "de034e64-0e6e-455c-946a-1721fda37f92",
   "metadata": {},
   "outputs": [],
   "source": []
  }
 ],
 "metadata": {
  "kernelspec": {
   "display_name": "Python 3 (ipykernel)",
   "language": "python",
   "name": "python3"
  },
  "language_info": {
   "codemirror_mode": {
    "name": "ipython",
    "version": 3
   },
   "file_extension": ".py",
   "mimetype": "text/x-python",
   "name": "python",
   "nbconvert_exporter": "python",
   "pygments_lexer": "ipython3",
   "version": "3.8.20"
  }
 },
 "nbformat": 4,
 "nbformat_minor": 5
}
