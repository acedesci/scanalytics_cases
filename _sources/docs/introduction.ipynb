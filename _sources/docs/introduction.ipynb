{
 "cells": [
  {
   "cell_type": "markdown",
   "id": "511d035b",
   "metadata": {},
   "source": [
    "# Introduction\n",
    "\n",
    "This online book with code is designed to provide you with a comprehensive exploration of real-world applications and practical insights into the field of supply chain analytics.\n",
    "\n",
    "Supply chain analytics has emerged as a critical discipline for businesses seeking to optimize their operations, reduce costs, and improve customer satisfaction. By leveraging data-driven insights, organizations can make informed decisions, identify inefficiencies, and gain a competitive edge.\n",
    "\n",
    "Throughout this book, you will encounter a diverse collection of case studies from various industries, including manufacturing, retail, healthcare, and logistics. Each case study will delve into specific challenges faced by companies, the analytical approaches they employed, and the tangible results achieved.\n",
    "\n",
    "By examining these real-world examples, you will gain a deeper understanding of how supply chain analytics can be applied to address a wide range of business problems. You will learn about the tools, techniques, and best practices that have proven successful in improving supply chain performance.\n",
    "\n",
    "Whether you are a seasoned supply chain professional or a newcomer to the field, this book offers valuable insights and practical guidance. It is our hope that these case studies will inspire you to explore the possibilities of supply chain analytics and apply them to your own organization."
   ]
  },
  {
   "cell_type": "markdown",
   "id": "dee08aa4",
   "metadata": {},
   "source": [
    "## Prerequisite:\n",
    "\n",
    "Prerequisites:\n",
    "\n",
    "To fully grasp the concepts and techniques presented in this book, a foundational understanding of the following areas is essential:\n",
    "\n",
    "- **Basic Python Programming for Data Analytics:** Proficiency in Python programming is crucial for implementing the analytical models and techniques discussed. A solid grasp of fundamental Python concepts, data structures, and libraries will be invaluable. If the reader does not have a supporting meterial for this, we refer the reader to our mini-book \"Introduction to Data Analytics with Python for Supply Chains\" by Yossiri Adulyasak and Martin Cousineau and the Python tutorial available on [Kaggle](https://www.kaggle.com/learn) \n",
    "author: Yossiri Adulyasak and Martin Cousineau\n",
    "- **Machine Learning Models:** Familiarity with machine learning algorithms is necessary for understanding and applying predictive analytics in supply chain contexts. Knowledge of regression analysis, classification, clustering, and time series forecasting will be beneficial.\n",
    "- **Optimization Models:** A foundation in optimization models is required to explore techniques for optimizing supply chain decisions. Understanding linear programming, integer programming, and other optimization methodologies will be helpful.\n",
    "\n",
    "If you have a solid background in these areas, you are well-equipped to follow this online book of supply chain analytics case studies. Throughout the book, we will delve into specific challenges faced by companies, the analytical approaches they employed, and the Python code that demonstrates how the analytics tools can be implemented. By examining these real-world examples, you will gain a deeper understanding of how supply chain analytics can be applied to address a wide range of business problems.\n",
    "\n",
    "Whether you are a seasoned supply chain professional or a newcomer to the field, this book offers valuable insights and practical guidance. It is our hope that these case studies will inspire you to explore the possibilities of supply chain analytics and apply them to your own organization."
   ]
  },
  {
   "cell_type": "markdown",
   "id": "58d6a7da",
   "metadata": {},
   "source": [
    "### Google Colab for Python Code\n",
    "This course leverages Google Colab, a cloud-based platform for interactive computing, to facilitate your exploration of supply chain analytics concepts through code examples and demonstrations. Colab offers a user experience very similar to Jupyter Notebook (Anaconda), but with the added benefit of being free and readily accessible from any web browser. Each part of the online book includes a link that brings you direcrly to the code available in Google Colab.\n",
    "\n",
    "A Google account is necessary to utilize Colab. You can conveniently use your Google email address to register for a free account if you haven't already.\n",
    "\n",
    "Accessing Colab:\n",
    "\n",
    "Visit the Colab Website: Navigate to https://colab.research.google.com using a preferred web browser. While most browsers are compatible, utilizing Google Chrome is recommended to ensure optimal performance and avoid potential technical issues.\n",
    "Sign Up with Google Account: To begin using Colab, sign in using your Google account credentials.\n",
    "Learning More about Colab:\n",
    "\n",
    "**Short Introduction:** Gain a quick overview of Colab's functionalities through this YouTube video: https://www.youtube.com/watch?v=inN8seMm7UI\n",
    "**Detailed Guide:** For a more comprehensive understanding of Colab, explore the official Colab notebook introduction: https://colab.research.google.com/notebooks/intro.ipynb\n",
    "By utilizing Colab, you will be able to actively participate in coding exercises and demonstrations, solidifying your grasp of supply chain analytics concepts within a practical and interactive environment.\n",
    "\n",
    "### Python Local Installation\n",
    "\n",
    "Instead of Google Colab, it is also possible to use Python locally on your machine by using Anaconda 3. Please refer to the mini-book \"Introduction to Data Analytics with Python for Supply Chains\" by Yossiri Adulyasak and Martin Cousineau or the instruction below. Anaconda is a powerful Python distribution that comes with a large collection of packages and tools that are essential for data science, machine learning, and scientific computing. Here's a brief guide on how to install Anaconda 3:\n",
    "\n",
    "**1. Download the Anaconda Installer:**\n",
    "\n",
    "- Visit the official Anaconda download page: [https://www.anaconda.com/download](https://www.anaconda.com/download)\n",
    "- Select the appropriate installer for your operating system (Windows, macOS, or Linux).\n",
    "\n",
    "**2. Run the Installer:**\n",
    "\n",
    "- Double-click the downloaded installer file.\n",
    "- Follow the on-screen instructions.\n",
    "- Make sure to choose the \"Add Anaconda to your PATH\" option during installation. This will allow you to access Anaconda commands from your terminal or command prompt.\n",
    "\n",
    "**3. Verify Installation:**\n",
    "\n",
    "- Open your terminal or command prompt.\n",
    "- Type `conda --version` and press Enter.\n",
    "- If Anaconda is installed correctly, you should see the installed version number.\n",
    "\n",
    "**Additional Notes:**\n",
    "\n",
    "- Anaconda creates a separate environment for Python and its packages, which helps in managing different projects and avoiding conflicts between libraries.\n",
    "- You can use the `conda` command to create, activate, and deactivate different environments.\n",
    "- For more information and advanced usage, refer to the Anaconda documentation: [https://docs.anaconda.com/](https://docs.anaconda.com/)\n",
    "\n"
   ]
  },
  {
   "cell_type": "code",
   "execution_count": null,
   "id": "00007634",
   "metadata": {},
   "outputs": [],
   "source": []
  }
 ],
 "metadata": {
  "kernelspec": {
   "display_name": "Python 3 (ipykernel)",
   "language": "python",
   "name": "python3"
  },
  "language_info": {
   "codemirror_mode": {
    "name": "ipython",
    "version": 3
   },
   "file_extension": ".py",
   "mimetype": "text/x-python",
   "name": "python",
   "nbconvert_exporter": "python",
   "pygments_lexer": "ipython3",
   "version": "3.8.20"
  },
  "toc": {
   "base_numbering": 1,
   "nav_menu": {},
   "number_sections": true,
   "sideBar": true,
   "skip_h1_title": false,
   "title_cell": "Table of Contents",
   "title_sidebar": "Contents",
   "toc_cell": false,
   "toc_position": {},
   "toc_section_display": true,
   "toc_window_display": true
  }
 },
 "nbformat": 4,
 "nbformat_minor": 5
}
