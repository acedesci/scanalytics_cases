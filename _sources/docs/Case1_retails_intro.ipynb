{
 "cells": [
  {
   "cell_type": "markdown",
   "metadata": {},
   "source": [
    "# Case: Retail analytics - Rue La La\n"
   ]
  },
  {
   "cell_type": "markdown",
   "metadata": {},
   "source": [
    "**Case Reference:**\n",
    "Ferreira, K. J., Lee, B. H. A., & Simchi-Levi, D. (2016). Analytics for an online retailer: Demand forecasting and price optimization. Manufacturing & service operations management, 18(1), 69-88.\n",
    "\n",
    "## Overview of the case:\n",
    "Rue La La, an online fashion retail company founded in 2007 in Boston, Massachusetts, specializes in offering limited-time sales on designer apparel and accessories. To cater to their online customers effectively, Rue La La faces several challenges in planning their product and pricing offerings. One such challenge is dealing with new products, as they lack historical data to accurately predict demand. Additionally, event factors like holidays or seasonal trends can significantly impact sales, making it difficult to forecast demand. Furthermore, the demand for one product can be influenced by the availability and pricing of competing styles, creating a complex interdependency that needs to be considered in their planning.\n",
    "\n",
    "**Predictive and Prescriptive Analytics:**\n",
    "\n",
    "- Predicting Demand: The company employs predictive analytics to estimate historical lost sales and forecast future demand for new products. Machine learning techniques are used to analyze factors like product attributes, seasonality, and historical sales data to predict demand.\n",
    "- Optimizing Pricing: Prescriptive analytics is employed to develop an algorithm that determines optimal pricing strategies for multiple products simultaneously. This algorithm incorporates reference price effects, considering how customers perceive prices relative to their expectations.\n",
    "\n",
    "**Modeling the Effect of Competing Products:**\n",
    "The change in the price of one product can impact the demand of other similar products. As a consequence, considering the pricing policy for a product in isolation may  not result in the desired outcomes due to this cannibalization effect between similar products (i.e., competing products). This cross-item effect is indirectly taken into account in both the predictive and prescriptive models. More specifically, in the predictive model, the sum (or the average) of prices of all the competing products are also used as an independent variable or feature. In the prescriptive model, a constraint is imposed to enforce that the selected prices across all the competing products will be equal to the predefined value of the sum (or the average) of prices of all the competing products. \n",
    "\n",
    "The image below (from Ferreira et al. 2018) presents an example of competing products.\n",
    "\n",
    "<img src=\"https://github.com/acedesci/scanalytics/blob/master/EN/images/competing_prods.jpg?raw=true\" width=\"600\">\n",
    "\n",
    "\n"
   ]
  },
  {
   "cell_type": "markdown",
   "metadata": {},
   "source": [
    "The analytics workflow of Rue La La that comprises both the predictive and prescriptive analytics is depicted below.\n",
    "<img src=\"https://github.com/acedesci/scanalytics/blob/master/EN/images/rue_la_la_workflow.jpg?raw=true\" width=\"500\">"
   ]
  },
  {
   "cell_type": "markdown",
   "metadata": {},
   "source": [
    "The overall pipeline of analytics process at Rue La La is depicted below (figure from Ferreira et al. 2018)\n",
    "<img src=\"https://github.com/acedesci/scanalytics/blob/master/EN/images/rue_la_la_pipeline.jpg?raw=true\" width=\"700\">"
   ]
  },
  {
   "cell_type": "code",
   "execution_count": null,
   "metadata": {},
   "outputs": [],
   "source": []
  }
 ],
 "metadata": {
  "kernelspec": {
   "display_name": "Python 3 (ipykernel)",
   "language": "python",
   "name": "python3"
  },
  "language_info": {
   "codemirror_mode": {
    "name": "ipython",
    "version": 3
   },
   "file_extension": ".py",
   "mimetype": "text/x-python",
   "name": "python",
   "nbconvert_exporter": "python",
   "pygments_lexer": "ipython3",
   "version": "3.8.20"
  }
 },
 "nbformat": 4,
 "nbformat_minor": 4
}
