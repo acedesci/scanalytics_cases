{
 "cells": [
  {
   "cell_type": "markdown",
   "id": "318a2a00-a22c-4427-943a-a4a64e86f046",
   "metadata": {},
   "source": [
    "# Case: Disruption Analytics - Ford Motor"
   ]
  },
  {
   "cell_type": "markdown",
   "id": "b8d9c8ef-68e6-4271-82d8-33a53561dae5",
   "metadata": {},
   "source": [
    "**Case Reference:**\n",
    "Simchi-Levi, D., Schmidt, W., Wei, Y., Zhang, P.Y., Combs, K., Ge, Y., Gusikhin, O., Sanders, M. and Zhang, D., 2015. Identifying risks and mitigating disruptions in the automotive supply chain. INFORMS Journal on Applied Analytics, 45(5), pp.375-390.\n",
    "\n",
    "<img src=\"https://github.com/acedesci/scanalytics/blob/master/EN/images/Picture2.png?raw=true\" width=\"200\">\n",
    "\n",
    "## Overview of the case:\n",
    "This case outlines the challenges faced by disruption risk analytics models in the context of a large automaker like Ford. These challenges include the rarity of disruptive events, which makes it difficult to gather sufficient data for accurate modeling. Additionally, risk assessment often involves subjective judgments, leading to potential biases in the analysis. The scale and complexity of Ford's global supply chain further complicate the task of developing effective models to anticipate and mitigate disruptions.\n",
    "\n",
    "The case involves a collaboration between MIT researchers and Ford Motor Company to develop a new method for assessing risks associated with disruptions in a company's supply chain. The paper outlines the challenges faced by Ford, proposes a new model called the risk-exposure index (REI), and details two related models, the time-to-recover (TTR) and time-to-survive (TTS), to assess these risks.\n",
    "\n",
    "**Challenges Faced by Ford**\n",
    "\n",
    "Ford, like many companies, faces challenges in proactively managing disruptions in its supply chain caused by low-probability, high-impact events. These disruptions are difficult to predict and quantify, and can have a significant material impact on a company's performance. The complexity and scale of Ford’s supply chain, with over 4,400 manufacturing sites across 10 tiers of suppliers, further complicate this problem. \n",
    "\n",
    "**Risk Exposure Index (REI)**\n",
    "\n",
    "The REI is a model developed to address the limitations of legacy risk-assessment processes. These legacy processes typically focus on tracking a small number of suppliers and parts, and may not identify significant exposures hidden among lower-tier suppliers. The REI defers the need to estimate the probability of specific disruptions by focusing instead on the impact of the disruption itself, regardless of the cause. In other words, REI is calculated as the relative value of the potential disruption cost faced by a location divided by the maximum disruption cost faced in the worst case scenario. This allows Ford to identify the weakest links in its supply chain and allocate resources more effectively towards mitigating those risks.\n",
    "\n",
    "**Time-to-Recover (TTR) and Time-to-Survive (TTS) Models**\n",
    "\n",
    "The TTR and TTS models are mathematical tools used in conjunction with the REI to assess the impact of disruptions on Ford’s supply chain.\n",
    "\n",
    "** - The TTR model** considers the time it takes for each supplier in the supply chain to recover from a disruption. It factors in operational and financial data, along with in-transit and on-site inventory levels, to simulate the impact of a disruption on Ford’s performance metrics such as lost production or sales.[1]\n",
    "** - The TTS model** calculates the maximum amount of time Ford’s system can function without demand loss if a particular supplier is disrupted. This allows Ford to identify suppliers who are critical to its operations and warrant further investigation into their recovery timelines.\n",
    "\n",
    "Both the TTR and TTS models are linear programming (LP) models, which can be solved very efficiently.\n",
    "\n",
    "**Reducing Disruption Risks**\n",
    "\n",
    "By using the REI, TTR, and TTS models, Ford can gain valuable insights into the weakest links in its supply chain and the potential impact of disruptions. This allows Ford to develop targeted risk-mitigation strategies such as:\n",
    "\n",
    "* Identifying critical suppliers and collaborating with them to improve their disaster preparedness.\n",
    "* Diversifying sources of supply to reduce reliance on any single supplier.\n",
    "* Stockpiling critical parts to mitigate the impact of disruptions.\n",
    "\n",
    "Overall, the proposed approach allows Ford to make data-driven decisions to reduce its vulnerability to supply chain disruptions.\n",
    " "
   ]
  },
  {
   "cell_type": "markdown",
   "id": "d3454925-7b7a-4ee6-b86e-3bb24df9a874",
   "metadata": {},
   "source": [
    "The overall workflow can be depicted as follows (Figure from Simchi-Levi, 2015).\n",
    "\n",
    "<img src=\"https://github.com/acedesci/scanalytics/blob/master/EN/images/fordworkflow.png?raw=true\" width=\"600\">\n"
   ]
  },
  {
   "cell_type": "code",
   "execution_count": null,
   "id": "1675a98b-c948-4ed0-b6d4-c24978038d2c",
   "metadata": {},
   "outputs": [],
   "source": []
  }
 ],
 "metadata": {
  "kernelspec": {
   "display_name": "Python 3 (ipykernel)",
   "language": "python",
   "name": "python3"
  },
  "language_info": {
   "codemirror_mode": {
    "name": "ipython",
    "version": 3
   },
   "file_extension": ".py",
   "mimetype": "text/x-python",
   "name": "python",
   "nbconvert_exporter": "python",
   "pygments_lexer": "ipython3",
   "version": "3.8.20"
  }
 },
 "nbformat": 4,
 "nbformat_minor": 5
}