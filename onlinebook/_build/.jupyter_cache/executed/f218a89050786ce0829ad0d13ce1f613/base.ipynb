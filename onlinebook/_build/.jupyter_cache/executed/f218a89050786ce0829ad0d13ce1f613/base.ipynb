{
 "cells": [
  {
   "cell_type": "code",
   "execution_count": 1,
   "metadata": {
    "id": "fHWImO45lwgd"
   },
   "outputs": [
    {
     "name": "stdout",
     "output_type": "stream",
     "text": [
      "{'Utah': 5, 'Nevada': 20}\n",
      "{'Utah': 0.5, 'Nevada': 0.2}\n",
      "{'Kansas': 20}\n",
      "{'Kansas': 0.75}\n",
      "[[9], [12]]\n",
      "{('Utah', 'Kansas'): 9, ('Nevada', 'Kansas'): 12}\n"
     ]
    }
   ],
   "source": [
    "# Data 1 (same as in the paper)\n",
    "\n",
    "# Fulfillment center (FC) data\n",
    "listFC = ['Utah', 'Nevada']\n",
    "inventoryFC = dict(zip(listFC, [5, 20]))\n",
    "print(inventoryFC)\n",
    "probMultiAvailability = dict(zip(listFC, [0.5, 0.2]))\n",
    "print(probMultiAvailability)\n",
    "\n",
    "# Customer region data\n",
    "listRegion = ['Kansas']\n",
    "demandValue = dict(zip(listRegion, [2*10]))\n",
    "print(demandValue)\n",
    "probMultiItem = dict(zip(listRegion, [0.75]))\n",
    "print(probMultiItem)\n",
    "\n",
    "# Shipment cost data\n",
    "costSingle = [[9], [12]]\n",
    "print(costSingle)\n",
    "\n",
    "# average number of items in a multi-item order\n",
    "avgNoMultiItem = 3.0\n",
    "# we can calculate the multi-item shipping discount $\\omega$\n",
    "shippingDiscount = 1/avgNoMultiItem\n",
    "\n",
    "# Prepare shipment cost above in dictionary format\n",
    "costSingleDict = {}\n",
    "for i in range(len(listFC)):\n",
    "  for j in range(len(listRegion)):\n",
    "    costSingleDict[(listFC[i],listRegion[j])] = costSingle[i][j]\n",
    "\n",
    "print(costSingleDict)"
   ]
  },
  {
   "cell_type": "code",
   "execution_count": 2,
   "metadata": {
    "id": "1fKI_a0MiKOM"
   },
   "outputs": [
    {
     "name": "stdout",
     "output_type": "stream",
     "text": [
      "{'Delta-BC': 37, 'Brampton-ON': 85, 'Ottawa-ON': 25}\n",
      "{'Delta-BC': 0.32, 'Brampton-ON': 0.45, 'Ottawa-ON': 0.17}\n",
      "{'Toronto': 45, 'Montreal': 27, 'Calgary': 15, 'Vancouver': 33}\n",
      "{'Toronto': 0.73, 'Montreal': 0.68, 'Calgary': 0.54, 'Vancouver': 0.64}\n",
      "{('Delta-BC', 'Toronto'): 24.5, ('Delta-BC', 'Montreal'): 25.5, ('Delta-BC', 'Calgary'): 18.1, ('Delta-BC', 'Vancouver'): 12.3, ('Brampton-ON', 'Toronto'): 13.6, ('Brampton-ON', 'Montreal'): 17.5, ('Brampton-ON', 'Calgary'): 22.8, ('Brampton-ON', 'Vancouver'): 23.6, ('Ottawa-ON', 'Toronto'): 18.1, ('Ottawa-ON', 'Montreal'): 14.1, ('Ottawa-ON', 'Calgary'): 21.1, ('Ottawa-ON', 'Vancouver'): 22.8}\n"
     ]
    }
   ],
   "source": [
    "# Data 2\n",
    "\n",
    "# Fulfillment center (FC) data\n",
    "listFC = ['Delta-BC', 'Brampton-ON', 'Ottawa-ON']\n",
    "inventoryFC = dict(zip(listFC, [37, 85, 25]))\n",
    "print(inventoryFC)\n",
    "probMultiAvailability = dict(zip(listFC, [0.32, 0.45, 0.17]))\n",
    "print(probMultiAvailability)\n",
    "\n",
    "# Customer region data\n",
    "listRegion = ['Toronto', 'Montreal', 'Calgary', 'Vancouver']\n",
    "demandValue = dict(zip(listRegion, [45, 27, 15, 33]))\n",
    "print(demandValue)\n",
    "probMultiItem = dict(zip(listRegion, [0.73, 0.68, 0.54, 0.64]))\n",
    "print(probMultiItem)\n",
    "\n",
    "# Shipment cost data\n",
    "costSingle = [[24.5, 25.5, 18.1, 12.3],\n",
    "        [13.6, 17.5, 22.8, 23.6],\n",
    "        [18.1, 14.1, 21.1, 22.8]]\n",
    "\n",
    "# average number of items in a multi-item order\n",
    "avgNoMultiItem = 2.5\n",
    "# we can calculate the multi-item shipping discount $\\omega$\n",
    "shippingDiscount = 1/avgNoMultiItem\n",
    "\n",
    "# Prepare shipment cost above in dictionary format\n",
    "costSingleDict = {}\n",
    "for i in range(len(listFC)):\n",
    "  for j in range(len(listRegion)):\n",
    "    costSingleDict[(listFC[i],listRegion[j])] = costSingle[i][j]\n",
    "\n",
    "print(costSingleDict)"
   ]
  },
  {
   "cell_type": "code",
   "execution_count": 3,
   "metadata": {
    "id": "AeKxRrnufnyo"
   },
   "outputs": [],
   "source": [
    "from pyomo.environ import *\n",
    "\n",
    "model = ConcreteModel()\n",
    "# Variables\n",
    "model.x = Var(listFC, listRegion, within = NonNegativeReals)\n",
    "model.y = Var(listFC, listRegion, within = NonNegativeReals)\n",
    "model.w = Var(listFC, listRegion, within = NonNegativeReals)\n",
    "\n",
    "model.inventoryOnHand = ConstraintList()\n",
    "model.demandSingle = ConstraintList()\n",
    "model.demandMulitiple = ConstraintList()\n",
    "model.maxMultiShipment = ConstraintList()\n",
    "\n",
    "# create an object to access to shadow prices. Please note that the codes must be exactly written as\n",
    "# model.dual = Suffix(direction=Suffix.IMPORT_EXPORT) in order for it to work because it was hard coded in pyomo.\n",
    "model.dual = Suffix(direction=Suffix.IMPORT_EXPORT)"
   ]
  },
  {
   "cell_type": "code",
   "execution_count": 4,
   "metadata": {
    "id": "RY6Vi1TE5ztC"
   },
   "outputs": [
    {
     "name": "stdout",
     "output_type": "stream",
     "text": [
      "24.5*w[Delta-BC,Toronto] + 9.8*x[Delta-BC,Toronto] + 19.6*y[Delta-BC,Toronto] + 25.5*w[Delta-BC,Montreal] + 10.200000000000001*x[Delta-BC,Montreal] + 20.400000000000002*y[Delta-BC,Montreal] + 18.1*w[Delta-BC,Calgary] + 7.240000000000001*x[Delta-BC,Calgary] + 14.480000000000002*y[Delta-BC,Calgary] + 12.3*w[Delta-BC,Vancouver] + 4.920000000000001*x[Delta-BC,Vancouver] + 9.840000000000002*y[Delta-BC,Vancouver] + 13.6*w[Brampton-ON,Toronto] + 5.44*x[Brampton-ON,Toronto] + 10.88*y[Brampton-ON,Toronto] + 17.5*w[Brampton-ON,Montreal] + 7.0*x[Brampton-ON,Montreal] + 14.0*y[Brampton-ON,Montreal] + 22.8*w[Brampton-ON,Calgary] + 9.120000000000001*x[Brampton-ON,Calgary] + 18.240000000000002*y[Brampton-ON,Calgary] + 23.6*w[Brampton-ON,Vancouver] + 9.440000000000001*x[Brampton-ON,Vancouver] + 18.880000000000003*y[Brampton-ON,Vancouver] + 18.1*w[Ottawa-ON,Toronto] + 7.240000000000001*x[Ottawa-ON,Toronto] + 14.480000000000002*y[Ottawa-ON,Toronto] + 14.1*w[Ottawa-ON,Montreal] + 5.640000000000001*x[Ottawa-ON,Montreal] + 11.280000000000001*y[Ottawa-ON,Montreal] + 21.1*w[Ottawa-ON,Calgary] + 8.440000000000001*x[Ottawa-ON,Calgary] + 16.880000000000003*y[Ottawa-ON,Calgary] + 22.8*w[Ottawa-ON,Vancouver] + 9.120000000000001*x[Ottawa-ON,Vancouver] + 18.240000000000002*y[Ottawa-ON,Vancouver]\n"
     ]
    }
   ],
   "source": [
    "# Objective function\n",
    "\n",
    "obj_expr = sum(costSingleDict[(i,j)]*model.w[(i,j)] + shippingDiscount*costSingleDict[(i,j)]*model.x[(i,j)] \\\n",
    "               + (2*shippingDiscount)*costSingleDict[(i,j)]*model.y[(i,j)] for i in listFC for j in listRegion)\n",
    "print(obj_expr)\n",
    "model.OBJ = Objective(expr = obj_expr, sense = minimize)"
   ]
  },
  {
   "cell_type": "code",
   "execution_count": 5,
   "metadata": {
    "id": "_-J1E9CayDY-"
   },
   "outputs": [
    {
     "name": "stdout",
     "output_type": "stream",
     "text": [
      "w[Delta-BC,Toronto] + x[Delta-BC,Toronto] + y[Delta-BC,Toronto] + w[Delta-BC,Montreal] + x[Delta-BC,Montreal] + y[Delta-BC,Montreal] + w[Delta-BC,Calgary] + x[Delta-BC,Calgary] + y[Delta-BC,Calgary] + w[Delta-BC,Vancouver] + x[Delta-BC,Vancouver] + y[Delta-BC,Vancouver]  <=  37\n",
      "w[Brampton-ON,Toronto] + x[Brampton-ON,Toronto] + y[Brampton-ON,Toronto] + w[Brampton-ON,Montreal] + x[Brampton-ON,Montreal] + y[Brampton-ON,Montreal] + w[Brampton-ON,Calgary] + x[Brampton-ON,Calgary] + y[Brampton-ON,Calgary] + w[Brampton-ON,Vancouver] + x[Brampton-ON,Vancouver] + y[Brampton-ON,Vancouver]  <=  85\n",
      "w[Ottawa-ON,Toronto] + x[Ottawa-ON,Toronto] + y[Ottawa-ON,Toronto] + w[Ottawa-ON,Montreal] + x[Ottawa-ON,Montreal] + y[Ottawa-ON,Montreal] + w[Ottawa-ON,Calgary] + x[Ottawa-ON,Calgary] + y[Ottawa-ON,Calgary] + w[Ottawa-ON,Vancouver] + x[Ottawa-ON,Vancouver] + y[Ottawa-ON,Vancouver]  <=  25\n"
     ]
    }
   ],
   "source": [
    "# Constraints 1 Inventory availability at FC i\n",
    "\n",
    "for i in listFC:\n",
    "  const_expr = sum(model.w[(i,j)] + model.x[(i,j)] + model.y[(i,j)] for j in listRegion) <= inventoryFC[i]\n",
    "  print(const_expr)\n",
    "  model.inventoryOnHand.add(expr = const_expr)\n"
   ]
  },
  {
   "cell_type": "code",
   "execution_count": 6,
   "metadata": {
    "id": "prKy0fAE6hTd"
   },
   "outputs": [
    {
     "name": "stdout",
     "output_type": "stream",
     "text": [
      "w[Delta-BC,Toronto] + w[Brampton-ON,Toronto] + w[Ottawa-ON,Toronto]  ==  12.15\n",
      "w[Delta-BC,Montreal] + w[Brampton-ON,Montreal] + w[Ottawa-ON,Montreal]  ==  8.639999999999999\n",
      "w[Delta-BC,Calgary] + w[Brampton-ON,Calgary] + w[Ottawa-ON,Calgary]  ==  6.8999999999999995\n",
      "w[Delta-BC,Vancouver] + w[Brampton-ON,Vancouver] + w[Ottawa-ON,Vancouver]  ==  11.879999999999999\n"
     ]
    }
   ],
   "source": [
    "# Constraints 2 Future demand for single-item order in region j\n",
    "\n",
    "for j in listRegion:\n",
    "  const_expr = sum(model.w[(i,j)] for i in listFC) == demandValue[j]*(1-probMultiItem[j])\n",
    "  print(const_expr)\n",
    "  model.demandSingle.add(expr = const_expr)"
   ]
  },
  {
   "cell_type": "code",
   "execution_count": 7,
   "metadata": {
    "id": "NZR8hsnq-rNe"
   },
   "outputs": [
    {
     "name": "stdout",
     "output_type": "stream",
     "text": [
      "x[Delta-BC,Toronto] + y[Delta-BC,Toronto] + x[Brampton-ON,Toronto] + y[Brampton-ON,Toronto] + x[Ottawa-ON,Toronto] + y[Ottawa-ON,Toronto]  ==  32.85\n",
      "x[Delta-BC,Montreal] + y[Delta-BC,Montreal] + x[Brampton-ON,Montreal] + y[Brampton-ON,Montreal] + x[Ottawa-ON,Montreal] + y[Ottawa-ON,Montreal]  ==  18.360000000000003\n",
      "x[Delta-BC,Calgary] + y[Delta-BC,Calgary] + x[Brampton-ON,Calgary] + y[Brampton-ON,Calgary] + x[Ottawa-ON,Calgary] + y[Ottawa-ON,Calgary]  ==  8.100000000000001\n",
      "x[Delta-BC,Vancouver] + y[Delta-BC,Vancouver] + x[Brampton-ON,Vancouver] + y[Brampton-ON,Vancouver] + x[Ottawa-ON,Vancouver] + y[Ottawa-ON,Vancouver]  ==  21.12\n"
     ]
    }
   ],
   "source": [
    "# Constraints 3 Future demand for multi-item order in region j\n",
    "\n",
    "for j in listRegion:\n",
    "  const_expr = sum(model.x[(i,j)] + model.y[(i,j)] for i in listFC) == demandValue[j]*probMultiItem[j]\n",
    "  print(const_expr)\n",
    "  model.demandMulitiple.add(expr = const_expr)"
   ]
  },
  {
   "cell_type": "code",
   "execution_count": 8,
   "metadata": {
    "id": "2a98wmcR-yV5"
   },
   "outputs": [
    {
     "name": "stdout",
     "output_type": "stream",
     "text": [
      "x[Delta-BC,Toronto]  <=  10.512\n",
      "x[Delta-BC,Montreal]  <=  5.875200000000001\n",
      "x[Delta-BC,Calgary]  <=  2.5920000000000005\n",
      "x[Delta-BC,Vancouver]  <=  6.758400000000001\n",
      "x[Brampton-ON,Toronto]  <=  14.7825\n",
      "x[Brampton-ON,Montreal]  <=  8.262000000000002\n",
      "x[Brampton-ON,Calgary]  <=  3.645000000000001\n",
      "x[Brampton-ON,Vancouver]  <=  9.504000000000001\n",
      "x[Ottawa-ON,Toronto]  <=  5.5845\n",
      "x[Ottawa-ON,Montreal]  <=  3.121200000000001\n",
      "x[Ottawa-ON,Calgary]  <=  1.3770000000000004\n",
      "x[Ottawa-ON,Vancouver]  <=  3.5904000000000003\n"
     ]
    }
   ],
   "source": [
    "# Constraints #4 Estimated maximum number multi-item shipments from FC i to customer regions j\n",
    "\n",
    "for i in listFC:\n",
    "  for j in listRegion:\n",
    "    const_expr = model.x[(i,j)] <= demandValue[j]*probMultiItem[j]*probMultiAvailability[i]\n",
    "    print(const_expr)\n",
    "    model.maxMultiShipment.add(expr = const_expr)"
   ]
  },
  {
   "cell_type": "code",
   "execution_count": 9,
   "metadata": {
    "id": "qRpGXUdEmbDT"
   },
   "outputs": [],
   "source": [
    "# This is commented so that we won't print out unless necessary. You can outcomment to print it.\n",
    "# model.pprint()"
   ]
  },
  {
   "cell_type": "code",
   "execution_count": 10,
   "metadata": {
    "id": "a0KA-DNX8RqA"
   },
   "outputs": [
    {
     "name": "stdout",
     "output_type": "stream",
     "text": [
      "Model unknown\n",
      "\n",
      "  Variables:\n",
      "    x : Size=12, Index=x_index\n",
      "        Key                          : Lower : Value   : Upper : Fixed : Stale : Domain\n",
      "          ('Brampton-ON', 'Calgary') :     0 :   3.645 :  None : False : False : NonNegativeReals\n",
      "         ('Brampton-ON', 'Montreal') :     0 :   8.262 :  None : False : False : NonNegativeReals\n",
      "          ('Brampton-ON', 'Toronto') :     0 : 14.7825 :  None : False : False : NonNegativeReals\n",
      "        ('Brampton-ON', 'Vancouver') :     0 :   9.504 :  None : False : False : NonNegativeReals\n",
      "             ('Delta-BC', 'Calgary') :     0 :   2.592 :  None : False : False : NonNegativeReals\n",
      "            ('Delta-BC', 'Montreal') :     0 :  5.8752 :  None : False : False : NonNegativeReals\n",
      "             ('Delta-BC', 'Toronto') :     0 :  1.2412 :  None : False : False : NonNegativeReals\n",
      "           ('Delta-BC', 'Vancouver') :     0 :  6.7584 :  None : False : False : NonNegativeReals\n",
      "            ('Ottawa-ON', 'Calgary') :     0 :   1.377 :  None : False : False : NonNegativeReals\n",
      "           ('Ottawa-ON', 'Montreal') :     0 :  3.1212 :  None : False : False : NonNegativeReals\n",
      "            ('Ottawa-ON', 'Toronto') :     0 :  5.5845 :  None : False : False : NonNegativeReals\n",
      "          ('Ottawa-ON', 'Vancouver') :     0 :  3.5904 :  None : False : False : NonNegativeReals\n",
      "    y : Size=12, Index=y_index\n",
      "        Key                          : Lower : Value             : Upper : Fixed : Stale : Domain\n",
      "          ('Brampton-ON', 'Calgary') :     0 :               0.0 :  None : False : False : NonNegativeReals\n",
      "         ('Brampton-ON', 'Montreal') :     0 :               0.0 :  None : False : False : NonNegativeReals\n",
      "          ('Brampton-ON', 'Toronto') :     0 :           11.2418 :  None : False : False : NonNegativeReals\n",
      "        ('Brampton-ON', 'Vancouver') :     0 :               0.0 :  None : False : False : NonNegativeReals\n",
      "             ('Delta-BC', 'Calgary') :     0 : 0.485999999999999 :  None : False : False : NonNegativeReals\n",
      "            ('Delta-BC', 'Montreal') :     0 :               0.0 :  None : False : False : NonNegativeReals\n",
      "             ('Delta-BC', 'Toronto') :     0 :               0.0 :  None : False : False : NonNegativeReals\n",
      "           ('Delta-BC', 'Vancouver') :     0 :            1.2672 :  None : False : False : NonNegativeReals\n",
      "            ('Ottawa-ON', 'Calgary') :     0 :               0.0 :  None : False : False : NonNegativeReals\n",
      "           ('Ottawa-ON', 'Montreal') :     0 :            1.1016 :  None : False : False : NonNegativeReals\n",
      "            ('Ottawa-ON', 'Toronto') :     0 :               0.0 :  None : False : False : NonNegativeReals\n",
      "          ('Ottawa-ON', 'Vancouver') :     0 :               0.0 :  None : False : False : NonNegativeReals\n",
      "    w : Size=12, Index=w_index\n",
      "        Key                          : Lower : Value : Upper : Fixed : Stale : Domain\n",
      "          ('Brampton-ON', 'Calgary') :     0 :   0.0 :  None : False : False : NonNegativeReals\n",
      "         ('Brampton-ON', 'Montreal') :     0 :   0.0 :  None : False : False : NonNegativeReals\n",
      "          ('Brampton-ON', 'Toronto') :     0 : 12.15 :  None : False : False : NonNegativeReals\n",
      "        ('Brampton-ON', 'Vancouver') :     0 :   0.0 :  None : False : False : NonNegativeReals\n",
      "             ('Delta-BC', 'Calgary') :     0 :   6.9 :  None : False : False : NonNegativeReals\n",
      "            ('Delta-BC', 'Montreal') :     0 :   0.0 :  None : False : False : NonNegativeReals\n",
      "             ('Delta-BC', 'Toronto') :     0 :   0.0 :  None : False : False : NonNegativeReals\n",
      "           ('Delta-BC', 'Vancouver') :     0 : 11.88 :  None : False : False : NonNegativeReals\n",
      "            ('Ottawa-ON', 'Calgary') :     0 :   0.0 :  None : False : False : NonNegativeReals\n",
      "           ('Ottawa-ON', 'Montreal') :     0 :  8.64 :  None : False : False : NonNegativeReals\n",
      "            ('Ottawa-ON', 'Toronto') :     0 :   0.0 :  None : False : False : NonNegativeReals\n",
      "          ('Ottawa-ON', 'Vancouver') :     0 :   0.0 :  None : False : False : NonNegativeReals\n",
      "\n",
      "  Objectives:\n",
      "    OBJ : Size=1, Index=None, Active=True\n",
      "        Key  : Active : Value\n",
      "        None :   True : 1200.042204\n",
      "\n",
      "  Constraints:\n",
      "    inventoryOnHand : Size=3\n",
      "        Key : Lower : Body               : Upper\n",
      "          1 :  None :  37.00000000000001 :  37.0\n",
      "          2 :  None : 59.585300000000004 :  85.0\n",
      "          3 :  None :            23.4147 :  25.0\n",
      "    demandSingle : Size=4\n",
      "        Key : Lower              : Body  : Upper\n",
      "          1 :              12.15 : 12.15 :              12.15\n",
      "          2 :  8.639999999999999 :  8.64 :  8.639999999999999\n",
      "          3 : 6.8999999999999995 :   6.9 : 6.8999999999999995\n",
      "          4 : 11.879999999999999 : 11.88 : 11.879999999999999\n",
      "    demandMulitiple : Size=4\n",
      "        Key : Lower              : Body               : Upper\n",
      "          1 :              32.85 :              32.85 :              32.85\n",
      "          2 : 18.360000000000003 : 18.360000000000003 : 18.360000000000003\n",
      "          3 :  8.100000000000001 :                8.1 :  8.100000000000001\n",
      "          4 :              21.12 :              21.12 :              21.12\n",
      "    maxMultiShipment : Size=12\n",
      "        Key : Lower : Body    : Upper\n",
      "          1 :  None :  1.2412 :             10.512\n",
      "          2 :  None :  5.8752 :  5.875200000000001\n",
      "          3 :  None :   2.592 : 2.5920000000000005\n",
      "          4 :  None :  6.7584 :  6.758400000000001\n",
      "          5 :  None : 14.7825 :            14.7825\n",
      "          6 :  None :   8.262 :  8.262000000000002\n",
      "          7 :  None :   3.645 :  3.645000000000001\n",
      "          8 :  None :   9.504 :  9.504000000000001\n",
      "          9 :  None :  5.5845 :             5.5845\n",
      "         10 :  None :  3.1212 :  3.121200000000001\n",
      "         11 :  None :   1.377 : 1.3770000000000004\n",
      "         12 :  None :  3.5904 : 3.5904000000000003\n"
     ]
    }
   ],
   "source": [
    "# Solve the model\n",
    "opt = SolverFactory('glpk')\n",
    "opt.solve(model)\n",
    "\n",
    "model.display()"
   ]
  },
  {
   "cell_type": "code",
   "execution_count": 11,
   "metadata": {
    "id": "ZI2YY1sZlYSq"
   },
   "outputs": [
    {
     "name": "stdout",
     "output_type": "stream",
     "text": [
      "dual : Direction=Suffix.IMPORT_EXPORT, Datatype=Suffix.FLOAT\n",
      "    Key                  : Value\n",
      "      demandMulitiple[1] :                 10.88\n",
      "      demandMulitiple[2] :                 11.28\n",
      "      demandMulitiple[3] :                 15.56\n",
      "      demandMulitiple[4] :                 10.92\n",
      "         demandSingle[1] :                  13.6\n",
      "         demandSingle[2] :                  14.1\n",
      "         demandSingle[3] :                 19.18\n",
      "         demandSingle[4] :                 13.38\n",
      "      inventoryOnHand[1] :                 -1.08\n",
      "      inventoryOnHand[2] :                   0.0\n",
      "      inventoryOnHand[3] :                   0.0\n",
      "    maxMultiShipment[10] :                 -5.64\n",
      "    maxMultiShipment[11] :                 -7.12\n",
      "    maxMultiShipment[12] :                  -1.8\n",
      "     maxMultiShipment[1] :                   0.0\n",
      "     maxMultiShipment[2] : -1.77635683940025e-15\n",
      "     maxMultiShipment[3] :                 -7.24\n",
      "     maxMultiShipment[4] :                 -4.92\n",
      "     maxMultiShipment[5] :                 -5.44\n",
      "     maxMultiShipment[6] :                 -4.28\n",
      "     maxMultiShipment[7] :                 -6.44\n",
      "     maxMultiShipment[8] :                 -1.48\n",
      "     maxMultiShipment[9] :                 -3.64\n"
     ]
    }
   ],
   "source": [
    "# Obtain reduced cost for each constraint\n",
    "model.dual.display()"
   ]
  },
  {
   "cell_type": "code",
   "execution_count": null,
   "metadata": {},
   "outputs": [],
   "source": []
  }
 ],
 "metadata": {
  "colab": {
   "name": "S10_Module1_Online_Fulfillment_Script.ipynb",
   "provenance": []
  },
  "kernelspec": {
   "display_name": "Python 3 (ipykernel)",
   "language": "python",
   "name": "python3"
  },
  "language_info": {
   "codemirror_mode": {
    "name": "ipython",
    "version": 3
   },
   "file_extension": ".py",
   "mimetype": "text/x-python",
   "name": "python",
   "nbconvert_exporter": "python",
   "pygments_lexer": "ipython3",
   "version": "3.8.20"
  }
 },
 "nbformat": 4,
 "nbformat_minor": 4
}