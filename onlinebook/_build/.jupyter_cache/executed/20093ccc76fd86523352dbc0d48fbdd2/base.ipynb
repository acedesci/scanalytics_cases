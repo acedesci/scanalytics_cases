{
 "cells": [
  {
   "cell_type": "code",
   "execution_count": 1,
   "metadata": {
    "id": "I2Sn0n-ZUc_E"
   },
   "outputs": [],
   "source": [
    "import pandas\n",
    "import numpy\n",
    "import sklearn\n",
    "from sklearn import *\n",
    "\n",
    "import matplotlib.pyplot as plt"
   ]
  },
  {
   "cell_type": "code",
   "execution_count": 2,
   "metadata": {
    "colab": {
     "base_uri": "https://localhost:8080/",
     "height": 543
    },
    "id": "nllChVoSUtNy",
    "outputId": "6f7e9774-a566-4489-a728-f61a414fb459"
   },
   "outputs": [
    {
     "data": {
      "text/html": [
       "<div>\n",
       "<style scoped>\n",
       "    .dataframe tbody tr th:only-of-type {\n",
       "        vertical-align: middle;\n",
       "    }\n",
       "\n",
       "    .dataframe tbody tr th {\n",
       "        vertical-align: top;\n",
       "    }\n",
       "\n",
       "    .dataframe thead th {\n",
       "        text-align: right;\n",
       "    }\n",
       "</style>\n",
       "<table border=\"1\" class=\"dataframe\">\n",
       "  <thead>\n",
       "    <tr style=\"text-align: right;\">\n",
       "      <th></th>\n",
       "      <th>Unnamed: 0</th>\n",
       "      <th>WEEK_END_DATE</th>\n",
       "      <th>STORE_NUM</th>\n",
       "      <th>UPC</th>\n",
       "      <th>UNITS</th>\n",
       "      <th>VISITS</th>\n",
       "      <th>HHS</th>\n",
       "      <th>SPEND</th>\n",
       "      <th>PRICE</th>\n",
       "      <th>BASE_PRICE</th>\n",
       "      <th>...</th>\n",
       "      <th>DISPLAY</th>\n",
       "      <th>TPR_ONLY</th>\n",
       "      <th>Desc</th>\n",
       "      <th>Category</th>\n",
       "      <th>Sub-Category</th>\n",
       "      <th>SUMPRICE</th>\n",
       "      <th>COUNTPRICE</th>\n",
       "      <th>AVGPRICE</th>\n",
       "      <th>RELPRICE</th>\n",
       "      <th>PRICE_p2</th>\n",
       "    </tr>\n",
       "  </thead>\n",
       "  <tbody>\n",
       "    <tr>\n",
       "      <th>0</th>\n",
       "      <td>6</td>\n",
       "      <td>2009-01-14</td>\n",
       "      <td>367.0</td>\n",
       "      <td>1111085319</td>\n",
       "      <td>14.0</td>\n",
       "      <td>13.0</td>\n",
       "      <td>13.0</td>\n",
       "      <td>26.32</td>\n",
       "      <td>1.88</td>\n",
       "      <td>1.88</td>\n",
       "      <td>...</td>\n",
       "      <td>0.0</td>\n",
       "      <td>0.0</td>\n",
       "      <td>PL HONEY NUT TOASTD OATS</td>\n",
       "      <td>COLD CEREAL</td>\n",
       "      <td>ALL FAMILY CEREAL</td>\n",
       "      <td>19.54</td>\n",
       "      <td>7</td>\n",
       "      <td>2.791429</td>\n",
       "      <td>0.673490</td>\n",
       "      <td>3.5344</td>\n",
       "    </tr>\n",
       "    <tr>\n",
       "      <th>1</th>\n",
       "      <td>8</td>\n",
       "      <td>2009-01-14</td>\n",
       "      <td>367.0</td>\n",
       "      <td>1111085350</td>\n",
       "      <td>35.0</td>\n",
       "      <td>27.0</td>\n",
       "      <td>25.0</td>\n",
       "      <td>69.30</td>\n",
       "      <td>1.98</td>\n",
       "      <td>1.98</td>\n",
       "      <td>...</td>\n",
       "      <td>0.0</td>\n",
       "      <td>0.0</td>\n",
       "      <td>PL BT SZ FRSTD SHRD WHT</td>\n",
       "      <td>COLD CEREAL</td>\n",
       "      <td>ALL FAMILY CEREAL</td>\n",
       "      <td>19.54</td>\n",
       "      <td>7</td>\n",
       "      <td>2.791429</td>\n",
       "      <td>0.709314</td>\n",
       "      <td>3.9204</td>\n",
       "    </tr>\n",
       "    <tr>\n",
       "      <th>2</th>\n",
       "      <td>12</td>\n",
       "      <td>2009-01-14</td>\n",
       "      <td>367.0</td>\n",
       "      <td>1600027527</td>\n",
       "      <td>12.0</td>\n",
       "      <td>10.0</td>\n",
       "      <td>10.0</td>\n",
       "      <td>38.28</td>\n",
       "      <td>3.19</td>\n",
       "      <td>3.19</td>\n",
       "      <td>...</td>\n",
       "      <td>0.0</td>\n",
       "      <td>0.0</td>\n",
       "      <td>GM HONEY NUT CHEERIOS</td>\n",
       "      <td>COLD CEREAL</td>\n",
       "      <td>ALL FAMILY CEREAL</td>\n",
       "      <td>19.54</td>\n",
       "      <td>7</td>\n",
       "      <td>2.791429</td>\n",
       "      <td>1.142784</td>\n",
       "      <td>10.1761</td>\n",
       "    </tr>\n",
       "    <tr>\n",
       "      <th>3</th>\n",
       "      <td>13</td>\n",
       "      <td>2009-01-14</td>\n",
       "      <td>367.0</td>\n",
       "      <td>1600027528</td>\n",
       "      <td>31.0</td>\n",
       "      <td>26.0</td>\n",
       "      <td>19.0</td>\n",
       "      <td>142.29</td>\n",
       "      <td>4.59</td>\n",
       "      <td>4.59</td>\n",
       "      <td>...</td>\n",
       "      <td>0.0</td>\n",
       "      <td>0.0</td>\n",
       "      <td>GM CHEERIOS</td>\n",
       "      <td>COLD CEREAL</td>\n",
       "      <td>ALL FAMILY CEREAL</td>\n",
       "      <td>19.54</td>\n",
       "      <td>7</td>\n",
       "      <td>2.791429</td>\n",
       "      <td>1.644319</td>\n",
       "      <td>21.0681</td>\n",
       "    </tr>\n",
       "    <tr>\n",
       "      <th>4</th>\n",
       "      <td>14</td>\n",
       "      <td>2009-01-14</td>\n",
       "      <td>367.0</td>\n",
       "      <td>1600027564</td>\n",
       "      <td>56.0</td>\n",
       "      <td>48.0</td>\n",
       "      <td>42.0</td>\n",
       "      <td>152.32</td>\n",
       "      <td>2.72</td>\n",
       "      <td>3.07</td>\n",
       "      <td>...</td>\n",
       "      <td>0.0</td>\n",
       "      <td>0.0</td>\n",
       "      <td>GM CHEERIOS</td>\n",
       "      <td>COLD CEREAL</td>\n",
       "      <td>ALL FAMILY CEREAL</td>\n",
       "      <td>19.54</td>\n",
       "      <td>7</td>\n",
       "      <td>2.791429</td>\n",
       "      <td>0.974411</td>\n",
       "      <td>7.3984</td>\n",
       "    </tr>\n",
       "  </tbody>\n",
       "</table>\n",
       "<p>5 rows × 21 columns</p>\n",
       "</div>"
      ],
      "text/plain": [
       "   Unnamed: 0 WEEK_END_DATE  STORE_NUM         UPC  UNITS  VISITS   HHS  \\\n",
       "0           6    2009-01-14      367.0  1111085319   14.0    13.0  13.0   \n",
       "1           8    2009-01-14      367.0  1111085350   35.0    27.0  25.0   \n",
       "2          12    2009-01-14      367.0  1600027527   12.0    10.0  10.0   \n",
       "3          13    2009-01-14      367.0  1600027528   31.0    26.0  19.0   \n",
       "4          14    2009-01-14      367.0  1600027564   56.0    48.0  42.0   \n",
       "\n",
       "    SPEND  PRICE  BASE_PRICE  ...  DISPLAY  TPR_ONLY  \\\n",
       "0   26.32   1.88        1.88  ...      0.0       0.0   \n",
       "1   69.30   1.98        1.98  ...      0.0       0.0   \n",
       "2   38.28   3.19        3.19  ...      0.0       0.0   \n",
       "3  142.29   4.59        4.59  ...      0.0       0.0   \n",
       "4  152.32   2.72        3.07  ...      0.0       0.0   \n",
       "\n",
       "                       Desc     Category       Sub-Category SUMPRICE  \\\n",
       "0  PL HONEY NUT TOASTD OATS  COLD CEREAL  ALL FAMILY CEREAL    19.54   \n",
       "1   PL BT SZ FRSTD SHRD WHT  COLD CEREAL  ALL FAMILY CEREAL    19.54   \n",
       "2     GM HONEY NUT CHEERIOS  COLD CEREAL  ALL FAMILY CEREAL    19.54   \n",
       "3               GM CHEERIOS  COLD CEREAL  ALL FAMILY CEREAL    19.54   \n",
       "4               GM CHEERIOS  COLD CEREAL  ALL FAMILY CEREAL    19.54   \n",
       "\n",
       "   COUNTPRICE  AVGPRICE  RELPRICE  PRICE_p2  \n",
       "0           7  2.791429  0.673490    3.5344  \n",
       "1           7  2.791429  0.709314    3.9204  \n",
       "2           7  2.791429  1.142784   10.1761  \n",
       "3           7  2.791429  1.644319   21.0681  \n",
       "4           7  2.791429  0.974411    7.3984  \n",
       "\n",
       "[5 rows x 21 columns]"
      ]
     },
     "execution_count": 2,
     "metadata": {},
     "output_type": "execute_result"
    }
   ],
   "source": [
    "url = 'https://raw.githubusercontent.com/acedesci/scanalytics/master/EN/S08_09_Retail_Analytics/salesCereals.csv'\n",
    "\n",
    "salesCereals = pandas.read_csv(url)\n",
    "salesCereals['PRICE_p2'] = salesCereals['PRICE']**2\n",
    "salesCereals.head()"
   ]
  },
  {
   "cell_type": "code",
   "execution_count": 3,
   "metadata": {
    "colab": {
     "base_uri": "https://localhost:8080/"
    },
    "id": "2iMU7G0yVeWk",
    "outputId": "3f3fe5af-27e3-44fe-90a2-1c38c6863c45"
   },
   "outputs": [
    {
     "name": "stdout",
     "output_type": "stream",
     "text": [
      "            Unnamed: 0  WEEK_END_DATE  STORE_NUM  UNITS  VISITS  HHS  SPEND  \\\n",
      "UPC                                                                           \n",
      "1111085319         156            156        156    156     156  156    156   \n",
      "1111085350         156            156        156    156     156  156    156   \n",
      "1600027527         156            156        156    156     156  156    156   \n",
      "1600027528         156            156        156    156     156  156    156   \n",
      "1600027564         155            155        155    155     155  155    155   \n",
      "3000006340         133            133        133    133     133  133    133   \n",
      "3800031829         155            155        155    155     155  155    155   \n",
      "\n",
      "            PRICE  BASE_PRICE  FEATURE  DISPLAY  TPR_ONLY  Desc  Category  \\\n",
      "UPC                                                                         \n",
      "1111085319    156         156      156      156       156   156       156   \n",
      "1111085350    156         156      156      156       156   156       156   \n",
      "1600027527    156         156      156      156       156   156       156   \n",
      "1600027528    156         156      156      156       156   156       156   \n",
      "1600027564    155         155      155      155       155   155       155   \n",
      "3000006340    133         133      133      133       133   133       133   \n",
      "3800031829    155         155      155      155       155   155       155   \n",
      "\n",
      "            Sub-Category  SUMPRICE  COUNTPRICE  AVGPRICE  RELPRICE  PRICE_p2  \n",
      "UPC                                                                           \n",
      "1111085319           156       156         156       156       156       156  \n",
      "1111085350           156       156         156       156       156       156  \n",
      "1600027527           156       156         156       156       156       156  \n",
      "1600027528           156       156         156       156       156       156  \n",
      "1600027564           155       155         155       155       155       155  \n",
      "3000006340           133       133         133       133       133       133  \n",
      "3800031829           155       155         155       155       155       155  \n"
     ]
    }
   ],
   "source": [
    "print(salesCereals.groupby('UPC').count())"
   ]
  },
  {
   "cell_type": "code",
   "execution_count": 4,
   "metadata": {
    "id": "0QmdVdfaX_jK"
   },
   "outputs": [],
   "source": [
    "feature_list = ['PRICE', 'PRICE_p2', 'FEATURE', 'DISPLAY','TPR_ONLY','RELPRICE']\n",
    "\n",
    "productList = salesCereals['UPC'].unique()\n",
    "upc = 1600027528\n",
    "\n",
    "X = salesCereals.loc[salesCereals['UPC']==upc][feature_list]\n",
    "y = salesCereals.loc[salesCereals['UPC']==upc]['UNITS']\n",
    "  # Split into training and testing data\n",
    "X_train, X_test, y_train, y_test = sklearn.model_selection.train_test_split(X, y, random_state=0)\n"
   ]
  },
  {
   "cell_type": "code",
   "execution_count": 5,
   "metadata": {
    "colab": {
     "base_uri": "https://localhost:8080/"
    },
    "id": "THvq_pEyerzL",
    "outputId": "fe8b45b8-28a3-476e-a2fa-bc6fd18bde76"
   },
   "outputs": [
    {
     "name": "stdout",
     "output_type": "stream",
     "text": [
      "Linear regression Summary - UPC:1600027528\n",
      "Training RMSE:9.07\n",
      "Testing MAE:8.09\n",
      "Testing MAPE:0.25\n",
      "Testing RMSE:14.07\n"
     ]
    }
   ],
   "source": [
    "#Linear model\n",
    "\n",
    "# Fit the model\n",
    "regr = sklearn.linear_model.LinearRegression().fit(X_train,y_train)\n",
    "\n",
    "# Measure the RSME on the training set\n",
    "trainRMSE = numpy.sqrt(sklearn.metrics.mean_squared_error(y_train, regr.predict(X_train)))\n",
    "\n",
    "# Prediction on the test set\n",
    "y_pred = regr.predict(X_test)\n",
    "\n",
    "# Measure the prediction performances on the test set\n",
    "testMAE = sklearn.metrics.mean_absolute_error(y_test, y_pred)\n",
    "testMAPE = numpy.mean(numpy.abs((y_test - y_pred) / y_test))\n",
    "testRMSE = numpy.sqrt(sklearn.metrics.mean_squared_error(y_test, y_pred))\n",
    "\n",
    "print('Linear regression Summary - UPC:'+str(upc))\n",
    "print('Training RMSE:' + str(round(trainRMSE,2)))\n",
    "print('Testing MAE:' + str(round(testMAE,2)))\n",
    "print('Testing MAPE:' + str(round(testMAPE,2)))\n",
    "print('Testing RMSE:' + str(round(testRMSE,2)))\n"
   ]
  },
  {
   "cell_type": "code",
   "execution_count": 6,
   "metadata": {
    "colab": {
     "base_uri": "https://localhost:8080/",
     "height": 334
    },
    "id": "OXtyo4WkHzvQ",
    "outputId": "87aaba67-ab38-4129-cfea-39907789c1bf"
   },
   "outputs": [
    {
     "name": "stderr",
     "output_type": "stream",
     "text": [
      "D:\\ProgramData\\Anaconda3\\envs\\sca_book2\\lib\\site-packages\\sklearn\\base.py:464: UserWarning: X does not have valid feature names, but LinearRegression was fitted with feature names\n",
      "  warnings.warn(\n"
     ]
    },
    {
     "data": {
      "image/png": "[encoded data removed]",
      "text/plain": [
       "<Figure size 640x480 with 1 Axes>"
      ]
     },
     "metadata": {},
     "output_type": "display_data"
    }
   ],
   "source": [
    "prices = [2.0, 2.25, 2.5, 2.75, 3.0, 3.25, 3.5, 3.75, 4.0]\n",
    "input_x = []\n",
    "\n",
    "# generate inputs for the plot using simple feature values and varying price points\n",
    "for p in prices:\n",
    "  input_x.append([p, p**2, 0,0,0, 1.0])\n",
    "\n",
    "# obtain the predicted demands\n",
    "predict_y = regr.predict(input_x)\n",
    "plt.plot(prices, predict_y, marker='o')\n",
    "plt.xlabel('Price')\n",
    "plt.ylabel('Demand')\n",
    "plt.show()"
   ]
  },
  {
   "cell_type": "code",
   "execution_count": 7,
   "metadata": {
    "colab": {
     "base_uri": "https://localhost:8080/"
    },
    "id": "m0wTwOc5eZxD",
    "outputId": "83f9c2f7-5c39-4313-80f3-f023ec579e1a"
   },
   "outputs": [
    {
     "name": "stdout",
     "output_type": "stream",
     "text": [
      "Tree regression Summary - UPC:1600027528\n",
      "Training RMSE:4.92\n",
      "Testing MAE:8.7\n",
      "Testing MAPE:0.28\n",
      "Testing RMSE:14.53\n"
     ]
    }
   ],
   "source": [
    "#Tree models\n",
    "# regr = sklearn.tree.DecisionTreeRegressor(random_state = 0).fit(X_train,y_train) # standard regression tree\n",
    "regr = sklearn.ensemble.RandomForestRegressor(random_state = 0).fit(X_train,y_train) # random forest tree\n",
    "\n",
    "# Measure the RSME on the training set\n",
    "trainRMSE = numpy.sqrt(sklearn.metrics.mean_squared_error(y_train, regr.predict(X_train)))\n",
    "\n",
    "# Prediction on the test set\n",
    "y_pred = regr.predict(X_test)\n",
    "\n",
    "# Measure the prediction performances on the test set\n",
    "testMAE = sklearn.metrics.mean_absolute_error(y_test, y_pred)\n",
    "testMAPE = numpy.mean(numpy.abs((y_test - y_pred) / y_test))\n",
    "testRMSE = numpy.sqrt(sklearn.metrics.mean_squared_error(y_test, y_pred))\n",
    "\n",
    "print('Tree regression Summary - UPC:'+str(upc))\n",
    "print('Training RMSE:' + str(round(trainRMSE,2)))\n",
    "print('Testing MAE:' + str(round(testMAE,2)))\n",
    "print('Testing MAPE:' + str(round(testMAPE,2)))\n",
    "print('Testing RMSE:' + str(round(testRMSE,2)))"
   ]
  },
  {
   "cell_type": "code",
   "execution_count": 8,
   "metadata": {
    "colab": {
     "base_uri": "https://localhost:8080/"
    },
    "id": "NCn-K6OOKex6",
    "outputId": "334558af-c29b-414a-c744-278ac083eaf7"
   },
   "outputs": [
    {
     "data": {
      "text/plain": [
       "[[2.0, 4.0, 0, 0, 0, 1.0],\n",
       " [2.25, 5.0625, 0, 0, 0, 1.0],\n",
       " [2.5, 6.25, 0, 0, 0, 1.0],\n",
       " [2.75, 7.5625, 0, 0, 0, 1.0],\n",
       " [3.0, 9.0, 0, 0, 0, 1.0],\n",
       " [3.25, 10.5625, 0, 0, 0, 1.0],\n",
       " [3.5, 12.25, 0, 0, 0, 1.0],\n",
       " [3.75, 14.0625, 0, 0, 0, 1.0],\n",
       " [4.0, 16.0, 0, 0, 0, 1.0]]"
      ]
     },
     "execution_count": 8,
     "metadata": {},
     "output_type": "execute_result"
    }
   ],
   "source": [
    "# plot to see how the results look like when changing prices\n",
    "prices = [2.0, 2.25, 2.5, 2.75, 3.0, 3.25, 3.5, 3.75, 4.0]\n",
    "input_x = []\n",
    "\n",
    "# generate inputs for the plot using simple feature values and varying price points\n",
    "for p in prices:\n",
    "  input_x.append([p, p**2, 0,0,0, 1.0])\n",
    "\n",
    "input_x"
   ]
  },
  {
   "cell_type": "code",
   "execution_count": 9,
   "metadata": {
    "colab": {
     "base_uri": "https://localhost:8080/",
     "height": 334
    },
    "id": "ejbHASguwDhR",
    "outputId": "48a836f0-8e9a-41ee-9512-672f7a1a3f3f"
   },
   "outputs": [
    {
     "name": "stderr",
     "output_type": "stream",
     "text": [
      "D:\\ProgramData\\Anaconda3\\envs\\sca_book2\\lib\\site-packages\\sklearn\\base.py:464: UserWarning: X does not have valid feature names, but RandomForestRegressor was fitted with feature names\n",
      "  warnings.warn(\n"
     ]
    },
    {
     "data": {
      "image/png": "[encoded data removed]",
      "text/plain": [
       "<Figure size 640x480 with 1 Axes>"
      ]
     },
     "metadata": {},
     "output_type": "display_data"
    }
   ],
   "source": [
    "# obtain the predicted demands\n",
    "predict_y = regr.predict(input_x)\n",
    "plt.plot(prices, predict_y, marker='o')\n",
    "plt.xlabel('Price')\n",
    "plt.ylabel('Demand')\n",
    "plt.show()"
   ]
  },
  {
   "cell_type": "code",
   "execution_count": 10,
   "metadata": {
    "colab": {
     "base_uri": "https://localhost:8080/"
    },
    "id": "IYJ4WZyW2O6I",
    "outputId": "78f2cd06-af58-47a1-aedb-13c7cc3d498d"
   },
   "outputs": [
    {
     "name": "stdout",
     "output_type": "stream",
     "text": [
      "Regression Summary - UPC:1600027528\n",
      "Overall MAE:7.06\n",
      "Overall MAPE:0.3\n",
      "Overall RMSE:10.43\n"
     ]
    }
   ],
   "source": [
    "# Selected model\n",
    "\n",
    "# Fit the model on the entire dataset\n",
    "regr = sklearn.linear_model.LinearRegression().fit(X,y)\n",
    "\n",
    "# Prediction on the test set\n",
    "y_pred = regr.predict(X)\n",
    "\n",
    "# Measure the prediction performances on the entire dataset\n",
    "overallMAE = sklearn.metrics.mean_absolute_error(y, y_pred)\n",
    "overallMAPE = numpy.mean(numpy.abs((y - y_pred) / y))\n",
    "overallRMSE = numpy.sqrt(sklearn.metrics.mean_squared_error(y, y_pred))\n",
    "\n",
    "print('Regression Summary - UPC:'+str(upc))\n",
    "print('Overall MAE:' + str(round(overallMAE,2)))\n",
    "print('Overall MAPE:' + str(round(overallMAPE,2)))\n",
    "print('Overall RMSE:' + str(round(overallRMSE,2)))"
   ]
  },
  {
   "cell_type": "code",
   "execution_count": 11,
   "metadata": {
    "id": "frGIJo8-YuyK"
   },
   "outputs": [],
   "source": [
    "cwd = './'"
   ]
  },
  {
   "cell_type": "code",
   "execution_count": 12,
   "metadata": {
    "id": "oF5XjbHAmVYG"
   },
   "outputs": [],
   "source": [
    "# save the models to drive (here we save model only for one UPC).\n",
    "import pickle\n",
    "\n",
    "filename = cwd+str(upc)+'_single_upc_demand_model.sav'\n",
    "# save the model to disk\n",
    "pickle.dump(regr, open(filename, 'wb'))"
   ]
  }
 ],
 "metadata": {
  "colab": {
   "name": "S8_Simple_Retail_Demand_Model.ipynb",
   "provenance": []
  },
  "kernelspec": {
   "display_name": "Python 3 (ipykernel)",
   "language": "python",
   "name": "python3"
  },
  "language_info": {
   "codemirror_mode": {
    "name": "ipython",
    "version": 3
   },
   "file_extension": ".py",
   "mimetype": "text/x-python",
   "name": "python",
   "nbconvert_exporter": "python",
   "pygments_lexer": "ipython3",
   "version": "3.8.20"
  }
 },
 "nbformat": 4,
 "nbformat_minor": 4
}