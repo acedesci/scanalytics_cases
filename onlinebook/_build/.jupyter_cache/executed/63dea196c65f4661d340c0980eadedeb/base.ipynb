{
 "cells": [
  {
   "cell_type": "code",
   "execution_count": 1,
   "metadata": {
    "id": "vxk0SKB7eM70"
   },
   "outputs": [
    {
     "data": {
      "text/html": [
       "<div>\n",
       "<style scoped>\n",
       "    .dataframe tbody tr th:only-of-type {\n",
       "        vertical-align: middle;\n",
       "    }\n",
       "\n",
       "    .dataframe tbody tr th {\n",
       "        vertical-align: top;\n",
       "    }\n",
       "\n",
       "    .dataframe thead th {\n",
       "        text-align: right;\n",
       "    }\n",
       "</style>\n",
       "<table border=\"1\" class=\"dataframe\">\n",
       "  <thead>\n",
       "    <tr style=\"text-align: right;\">\n",
       "      <th></th>\n",
       "      <th>NA</th>\n",
       "      <th>avgPriceChoice</th>\n",
       "      <th>UPC</th>\n",
       "      <th>PRICE</th>\n",
       "      <th>PRICE_p2</th>\n",
       "      <th>FEATURE</th>\n",
       "      <th>DISPLAY</th>\n",
       "      <th>TPR_ONLY</th>\n",
       "      <th>RELPRICE</th>\n",
       "      <th>predictSales</th>\n",
       "    </tr>\n",
       "  </thead>\n",
       "  <tbody>\n",
       "    <tr>\n",
       "      <th>0</th>\n",
       "      <td>0</td>\n",
       "      <td>3.0</td>\n",
       "      <td>1600027528</td>\n",
       "      <td>2.5</td>\n",
       "      <td>6.25</td>\n",
       "      <td>0</td>\n",
       "      <td>0</td>\n",
       "      <td>0</td>\n",
       "      <td>0.833333</td>\n",
       "      <td>95.0</td>\n",
       "    </tr>\n",
       "    <tr>\n",
       "      <th>1</th>\n",
       "      <td>1</td>\n",
       "      <td>3.0</td>\n",
       "      <td>1600027528</td>\n",
       "      <td>3.0</td>\n",
       "      <td>9.00</td>\n",
       "      <td>0</td>\n",
       "      <td>0</td>\n",
       "      <td>0</td>\n",
       "      <td>1.000000</td>\n",
       "      <td>67.0</td>\n",
       "    </tr>\n",
       "    <tr>\n",
       "      <th>2</th>\n",
       "      <td>2</td>\n",
       "      <td>3.0</td>\n",
       "      <td>1600027528</td>\n",
       "      <td>3.5</td>\n",
       "      <td>12.25</td>\n",
       "      <td>0</td>\n",
       "      <td>0</td>\n",
       "      <td>0</td>\n",
       "      <td>1.166667</td>\n",
       "      <td>46.0</td>\n",
       "    </tr>\n",
       "    <tr>\n",
       "      <th>3</th>\n",
       "      <td>3</td>\n",
       "      <td>3.0</td>\n",
       "      <td>1600027564</td>\n",
       "      <td>2.5</td>\n",
       "      <td>6.25</td>\n",
       "      <td>0</td>\n",
       "      <td>0</td>\n",
       "      <td>0</td>\n",
       "      <td>0.833333</td>\n",
       "      <td>24.0</td>\n",
       "    </tr>\n",
       "    <tr>\n",
       "      <th>4</th>\n",
       "      <td>4</td>\n",
       "      <td>3.0</td>\n",
       "      <td>1600027564</td>\n",
       "      <td>3.0</td>\n",
       "      <td>9.00</td>\n",
       "      <td>0</td>\n",
       "      <td>0</td>\n",
       "      <td>0</td>\n",
       "      <td>1.000000</td>\n",
       "      <td>23.0</td>\n",
       "    </tr>\n",
       "    <tr>\n",
       "      <th>5</th>\n",
       "      <td>5</td>\n",
       "      <td>3.0</td>\n",
       "      <td>1600027564</td>\n",
       "      <td>3.5</td>\n",
       "      <td>12.25</td>\n",
       "      <td>0</td>\n",
       "      <td>0</td>\n",
       "      <td>0</td>\n",
       "      <td>1.166667</td>\n",
       "      <td>20.0</td>\n",
       "    </tr>\n",
       "    <tr>\n",
       "      <th>6</th>\n",
       "      <td>6</td>\n",
       "      <td>3.0</td>\n",
       "      <td>3000006340</td>\n",
       "      <td>2.5</td>\n",
       "      <td>6.25</td>\n",
       "      <td>0</td>\n",
       "      <td>0</td>\n",
       "      <td>0</td>\n",
       "      <td>0.833333</td>\n",
       "      <td>6.0</td>\n",
       "    </tr>\n",
       "    <tr>\n",
       "      <th>7</th>\n",
       "      <td>7</td>\n",
       "      <td>3.0</td>\n",
       "      <td>3000006340</td>\n",
       "      <td>3.0</td>\n",
       "      <td>9.00</td>\n",
       "      <td>0</td>\n",
       "      <td>0</td>\n",
       "      <td>0</td>\n",
       "      <td>1.000000</td>\n",
       "      <td>4.0</td>\n",
       "    </tr>\n",
       "    <tr>\n",
       "      <th>8</th>\n",
       "      <td>8</td>\n",
       "      <td>3.0</td>\n",
       "      <td>3000006340</td>\n",
       "      <td>3.5</td>\n",
       "      <td>12.25</td>\n",
       "      <td>0</td>\n",
       "      <td>0</td>\n",
       "      <td>0</td>\n",
       "      <td>1.166667</td>\n",
       "      <td>3.0</td>\n",
       "    </tr>\n",
       "    <tr>\n",
       "      <th>9</th>\n",
       "      <td>9</td>\n",
       "      <td>3.0</td>\n",
       "      <td>3800031829</td>\n",
       "      <td>2.5</td>\n",
       "      <td>6.25</td>\n",
       "      <td>0</td>\n",
       "      <td>0</td>\n",
       "      <td>0</td>\n",
       "      <td>0.833333</td>\n",
       "      <td>33.0</td>\n",
       "    </tr>\n",
       "    <tr>\n",
       "      <th>10</th>\n",
       "      <td>10</td>\n",
       "      <td>3.0</td>\n",
       "      <td>3800031829</td>\n",
       "      <td>3.0</td>\n",
       "      <td>9.00</td>\n",
       "      <td>0</td>\n",
       "      <td>0</td>\n",
       "      <td>0</td>\n",
       "      <td>1.000000</td>\n",
       "      <td>24.0</td>\n",
       "    </tr>\n",
       "    <tr>\n",
       "      <th>11</th>\n",
       "      <td>11</td>\n",
       "      <td>3.0</td>\n",
       "      <td>3800031829</td>\n",
       "      <td>3.5</td>\n",
       "      <td>12.25</td>\n",
       "      <td>0</td>\n",
       "      <td>0</td>\n",
       "      <td>0</td>\n",
       "      <td>1.166667</td>\n",
       "      <td>20.0</td>\n",
       "    </tr>\n",
       "  </tbody>\n",
       "</table>\n",
       "</div>"
      ],
      "text/plain": [
       "    NA  avgPriceChoice         UPC  PRICE  PRICE_p2  FEATURE  DISPLAY  \\\n",
       "0    0             3.0  1600027528    2.5      6.25        0        0   \n",
       "1    1             3.0  1600027528    3.0      9.00        0        0   \n",
       "2    2             3.0  1600027528    3.5     12.25        0        0   \n",
       "3    3             3.0  1600027564    2.5      6.25        0        0   \n",
       "4    4             3.0  1600027564    3.0      9.00        0        0   \n",
       "5    5             3.0  1600027564    3.5     12.25        0        0   \n",
       "6    6             3.0  3000006340    2.5      6.25        0        0   \n",
       "7    7             3.0  3000006340    3.0      9.00        0        0   \n",
       "8    8             3.0  3000006340    3.5     12.25        0        0   \n",
       "9    9             3.0  3800031829    2.5      6.25        0        0   \n",
       "10  10             3.0  3800031829    3.0      9.00        0        0   \n",
       "11  11             3.0  3800031829    3.5     12.25        0        0   \n",
       "\n",
       "    TPR_ONLY  RELPRICE  predictSales  \n",
       "0          0  0.833333          95.0  \n",
       "1          0  1.000000          67.0  \n",
       "2          0  1.166667          46.0  \n",
       "3          0  0.833333          24.0  \n",
       "4          0  1.000000          23.0  \n",
       "5          0  1.166667          20.0  \n",
       "6          0  0.833333           6.0  \n",
       "7          0  1.000000           4.0  \n",
       "8          0  1.166667           3.0  \n",
       "9          0  0.833333          33.0  \n",
       "10         0  1.000000          24.0  \n",
       "11         0  1.166667          20.0  "
      ]
     },
     "execution_count": 1,
     "metadata": {},
     "output_type": "execute_result"
    }
   ],
   "source": [
    "import pandas\n",
    "\n",
    "# Prob1 is the same problem as Module 2A\n",
    "url = 'https://raw.githubusercontent.com/acedesci/scanalytics/master/EN/S08_09_Retail_Analytics/predictedSales_Prob1.csv'\n",
    "\n",
    "# Prob2 is the large-scale problem\n",
    "# url = 'https://raw.githubusercontent.com/acedesci/scanalytics/master/EN/S08_09_Retail_Analytics/predictedSales_Prob2.csv'\n",
    "\n",
    "predDemand = pandas.read_csv(url)\n",
    "\n",
    "# Dataset is now stored in a Pandas Dataframe predDemand\n",
    "predDemand"
   ]
  },
  {
   "cell_type": "code",
   "execution_count": 2,
   "metadata": {
    "id": "scZFGWSlDi3L"
   },
   "outputs": [
    {
     "name": "stdout",
     "output_type": "stream",
     "text": [
      "Possible average price choices (k/N.Product):[3.]\n"
     ]
    }
   ],
   "source": [
    "avgPriceList = predDemand['avgPriceChoice'].unique()\n",
    "inputColumns = ['avgPriceChoice', 'UPC', 'PRICE','predictSales']\n",
    "print(\"Possible average price choices (k/N.Product):\"+str(avgPriceList))\n"
   ]
  },
  {
   "cell_type": "code",
   "execution_count": 3,
   "metadata": {
    "id": "gl0TFiFZ8usK"
   },
   "outputs": [
    {
     "name": "stdout",
     "output_type": "stream",
     "text": [
      "    avgPriceChoice         UPC  PRICE  predictSales\n",
      "0              3.0  1600027528    2.5          95.0\n",
      "1              3.0  1600027528    3.0          67.0\n",
      "2              3.0  1600027528    3.5          46.0\n",
      "3              3.0  1600027564    2.5          24.0\n",
      "4              3.0  1600027564    3.0          23.0\n",
      "5              3.0  1600027564    3.5          20.0\n",
      "6              3.0  3000006340    2.5           6.0\n",
      "7              3.0  3000006340    3.0           4.0\n",
      "8              3.0  3000006340    3.5           3.0\n",
      "9              3.0  3800031829    2.5          33.0\n",
      "10             3.0  3800031829    3.0          24.0\n",
      "11             3.0  3800031829    3.5          20.0\n",
      "{(1600027528, 2.5): 2.5, (1600027528, 3.0): 3.0, (1600027528, 3.5): 3.5, (1600027564, 2.5): 2.5, (1600027564, 3.0): 3.0, (1600027564, 3.5): 3.5, (3000006340, 2.5): 2.5, (3000006340, 3.0): 3.0, (3000006340, 3.5): 3.5, (3800031829, 2.5): 2.5, (3800031829, 3.0): 3.0, (3800031829, 3.5): 3.5}\n",
      "{(1600027528, 2.5): 95.0, (1600027528, 3.0): 67.0, (1600027528, 3.5): 46.0, (1600027564, 2.5): 24.0, (1600027564, 3.0): 23.0, (1600027564, 3.5): 20.0, (3000006340, 2.5): 6.0, (3000006340, 3.0): 4.0, (3000006340, 3.5): 3.0, (3800031829, 2.5): 33.0, (3800031829, 3.0): 24.0, (3800031829, 3.5): 20.0}\n"
     ]
    }
   ],
   "source": [
    "# Nere we choose which value of k (avgPriceValue x N. of products) we would like to use in the model\n",
    "# Note that k must be among the choices where the prediction has been prepared\n",
    "avgPriceValue =  avgPriceList[0]\n",
    "\n",
    "# Now we select only the row which corresponds to the previously chosen value of avgPriceValue (again k = avgPriceValue x N. of products)\n",
    "predDemand_k = predDemand.loc[predDemand['avgPriceChoice'] == avgPriceValue][inputColumns]\n",
    "print(predDemand_k)\n",
    "productList = predDemand_k['UPC'].unique()\n",
    "priceList = predDemand_k['PRICE'].unique()\n",
    "\n",
    "# Here we prepare the dictionary to be used in the optimization model\n",
    "p = {}\n",
    "D = {}\n",
    "\n",
    "for upc in productList:\n",
    "  for price in priceList:\n",
    "    p[(upc,price)] = price\n",
    "    D[(upc,price)] = predDemand_k.loc[(predDemand['UPC'] == upc) & (predDemand_k['PRICE'] == price)]['predictSales'].values[0]\n",
    "\n",
    "print(p)\n",
    "print(D)"
   ]
  },
  {
   "cell_type": "code",
   "execution_count": 4,
   "metadata": {
    "id": "AeKxRrnufnyo"
   },
   "outputs": [
    {
     "name": "stdout",
     "output_type": "stream",
     "text": [
      "5 Set Declarations\n",
      "    PriceChoiceUPC_index : Size=1, Index=None, Ordered=Insertion\n",
      "        Key  : Dimen : Domain : Size : Members\n",
      "        None :     1 :    Any :    0 :      {}\n",
      "    sumPrice_index : Size=1, Index=None, Ordered=Insertion\n",
      "        Key  : Dimen : Domain : Size : Members\n",
      "        None :     1 :    Any :    0 :      {}\n",
      "    x_index : Size=1, Index=None, Ordered=False\n",
      "        Key  : Dimen : Domain              : Size : Members\n",
      "        None :     2 : x_index_0*x_index_1 :   12 : {(1600027528, 2.5), (1600027528, 3.0), (1600027528, 3.5), (1600027564, 2.5), (1600027564, 3.0), (1600027564, 3.5), (3000006340, 2.5), (3000006340, 3.0), (3000006340, 3.5), (3800031829, 2.5), (3800031829, 3.0), (3800031829, 3.5)}\n",
      "    x_index_0 : Size=1, Index=None, Ordered=False\n",
      "        Key  : Dimen : Domain : Size : Members\n",
      "        None :     1 :    Any :    4 : {1600027528, 1600027564, 3000006340, 3800031829}\n",
      "    x_index_1 : Size=1, Index=None, Ordered=False\n",
      "        Key  : Dimen : Domain : Size : Members\n",
      "        None :     1 :    Any :    3 : {2.5, 3.0, 3.5}\n",
      "\n",
      "1 Var Declarations\n",
      "    x : Size=12, Index=x_index\n",
      "        Key               : Lower : Value : Upper : Fixed : Stale : Domain\n",
      "        (1600027528, 2.5) :     0 :  None :     1 : False :  True : Binary\n",
      "        (1600027528, 3.0) :     0 :  None :     1 : False :  True : Binary\n",
      "        (1600027528, 3.5) :     0 :  None :     1 : False :  True : Binary\n",
      "        (1600027564, 2.5) :     0 :  None :     1 : False :  True : Binary\n",
      "        (1600027564, 3.0) :     0 :  None :     1 : False :  True : Binary\n",
      "        (1600027564, 3.5) :     0 :  None :     1 : False :  True : Binary\n",
      "        (3000006340, 2.5) :     0 :  None :     1 : False :  True : Binary\n",
      "        (3000006340, 3.0) :     0 :  None :     1 : False :  True : Binary\n",
      "        (3000006340, 3.5) :     0 :  None :     1 : False :  True : Binary\n",
      "        (3800031829, 2.5) :     0 :  None :     1 : False :  True : Binary\n",
      "        (3800031829, 3.0) :     0 :  None :     1 : False :  True : Binary\n",
      "        (3800031829, 3.5) :     0 :  None :     1 : False :  True : Binary\n",
      "\n",
      "2 Constraint Declarations\n",
      "    PriceChoiceUPC : Size=0, Index=PriceChoiceUPC_index, Active=True\n",
      "        Key : Lower : Body : Upper : Active\n",
      "    sumPrice : Size=0, Index=sumPrice_index, Active=True\n",
      "        Key : Lower : Body : Upper : Active\n",
      "\n",
      "8 Declarations: x_index_0 x_index_1 x_index x PriceChoiceUPC_index PriceChoiceUPC sumPrice_index sumPrice\n"
     ]
    }
   ],
   "source": [
    "from pyomo.environ import *\n",
    "\n",
    "iIndexList = list(range(len(productList)))\n",
    "jIndexList = list(range(len(priceList)))\n",
    "\n",
    "model = ConcreteModel()\n",
    "# Variables\n",
    "model.x = Var(productList, priceList, within = Binary)\n",
    "\n",
    "# Constraints\n",
    "model.PriceChoiceUPC = ConstraintList()\n",
    "model.sumPrice = ConstraintList()\n",
    "\n",
    "# Print to review the model (equations are still not included)\n",
    "model.pprint()"
   ]
  },
  {
   "cell_type": "code",
   "execution_count": 5,
   "metadata": {
    "id": "RY6Vi1TE5ztC"
   },
   "outputs": [
    {
     "name": "stdout",
     "output_type": "stream",
     "text": [
      "237.5*x[1600027528,2.5] + 201.0*x[1600027528,3.0] + 161.0*x[1600027528,3.5] + 60.0*x[1600027564,2.5] + 69.0*x[1600027564,3.0] + 70.0*x[1600027564,3.5] + 15.0*x[3000006340,2.5] + 12.0*x[3000006340,3.0] + 10.5*x[3000006340,3.5] + 82.5*x[3800031829,2.5] + 72.0*x[3800031829,3.0] + 70.0*x[3800031829,3.5]\n"
     ]
    }
   ],
   "source": [
    "# Objective function\n",
    "\n",
    "obj_expr = sum(p[(i,j)]*D[(i,j)]*model.x[i,j] for i in productList for j in priceList)\n",
    "print(obj_expr)\n",
    "model.OBJ = Objective(expr = obj_expr, sense = maximize)"
   ]
  },
  {
   "cell_type": "code",
   "execution_count": 6,
   "metadata": {
    "id": "_-J1E9CayDY-"
   },
   "outputs": [
    {
     "name": "stdout",
     "output_type": "stream",
     "text": [
      "x[1600027528,2.5] + x[1600027528,3.0] + x[1600027528,3.5]  ==  1\n",
      "x[1600027564,2.5] + x[1600027564,3.0] + x[1600027564,3.5]  ==  1\n",
      "x[3000006340,2.5] + x[3000006340,3.0] + x[3000006340,3.5]  ==  1\n",
      "x[3800031829,2.5] + x[3800031829,3.0] + x[3800031829,3.5]  ==  1\n"
     ]
    }
   ],
   "source": [
    "# Constraints #1\n",
    "for i in productList:\n",
    "  const1_expr = sum(model.x[i,j] for j in priceList) == 1\n",
    "  print(const1_expr)\n",
    "  model.PriceChoiceUPC.add(expr = const1_expr)\n"
   ]
  },
  {
   "cell_type": "code",
   "execution_count": 7,
   "metadata": {
    "id": "prKy0fAE6hTd"
   },
   "outputs": [
    {
     "name": "stdout",
     "output_type": "stream",
     "text": [
      "2.5*x[1600027528,2.5] + 3.0*x[1600027528,3.0] + 3.5*x[1600027528,3.5] + 2.5*x[1600027564,2.5] + 3.0*x[1600027564,3.0] + 3.5*x[1600027564,3.5] + 2.5*x[3000006340,2.5] + 3.0*x[3000006340,3.0] + 3.5*x[3000006340,3.5] + 2.5*x[3800031829,2.5] + 3.0*x[3800031829,3.0] + 3.5*x[3800031829,3.5]  ==  12.0\n"
     ]
    },
    {
     "data": {
      "text/plain": [
       "<pyomo.core.base.constraint._GeneralConstraintData at 0x1a2fc5cac40>"
      ]
     },
     "execution_count": 7,
     "metadata": {},
     "output_type": "execute_result"
    }
   ],
   "source": [
    "# Constraints #2\n",
    "const2_expr = sum(p[i,j]*model.x[i,j] for i in productList for j in priceList) == avgPriceValue*len(productList)\n",
    "print(const2_expr)\n",
    "model.sumPrice.add(expr = const2_expr)\n",
    "\n"
   ]
  },
  {
   "cell_type": "code",
   "execution_count": 8,
   "metadata": {
    "id": "K_z-vhR_VtJ2"
   },
   "outputs": [
    {
     "name": "stdout",
     "output_type": "stream",
     "text": [
      "5 Set Declarations\n",
      "    PriceChoiceUPC_index : Size=1, Index=None, Ordered=Insertion\n",
      "        Key  : Dimen : Domain : Size : Members\n",
      "        None :     1 :    Any :    4 : {1, 2, 3, 4}\n",
      "    sumPrice_index : Size=1, Index=None, Ordered=Insertion\n",
      "        Key  : Dimen : Domain : Size : Members\n",
      "        None :     1 :    Any :    1 :    {1,}\n",
      "    x_index : Size=1, Index=None, Ordered=False\n",
      "        Key  : Dimen : Domain              : Size : Members\n",
      "        None :     2 : x_index_0*x_index_1 :   12 : {(1600027528, 2.5), (1600027528, 3.0), (1600027528, 3.5), (1600027564, 2.5), (1600027564, 3.0), (1600027564, 3.5), (3000006340, 2.5), (3000006340, 3.0), (3000006340, 3.5), (3800031829, 2.5), (3800031829, 3.0), (3800031829, 3.5)}\n",
      "    x_index_0 : Size=1, Index=None, Ordered=False\n",
      "        Key  : Dimen : Domain : Size : Members\n",
      "        None :     1 :    Any :    4 : {1600027528, 1600027564, 3000006340, 3800031829}\n",
      "    x_index_1 : Size=1, Index=None, Ordered=False\n",
      "        Key  : Dimen : Domain : Size : Members\n",
      "        None :     1 :    Any :    3 : {2.5, 3.0, 3.5}\n",
      "\n",
      "1 Var Declarations\n",
      "    x : Size=12, Index=x_index\n",
      "        Key               : Lower : Value : Upper : Fixed : Stale : Domain\n",
      "        (1600027528, 2.5) :     0 :  None :     1 : False :  True : Binary\n",
      "        (1600027528, 3.0) :     0 :  None :     1 : False :  True : Binary\n",
      "        (1600027528, 3.5) :     0 :  None :     1 : False :  True : Binary\n",
      "        (1600027564, 2.5) :     0 :  None :     1 : False :  True : Binary\n",
      "        (1600027564, 3.0) :     0 :  None :     1 : False :  True : Binary\n",
      "        (1600027564, 3.5) :     0 :  None :     1 : False :  True : Binary\n",
      "        (3000006340, 2.5) :     0 :  None :     1 : False :  True : Binary\n",
      "        (3000006340, 3.0) :     0 :  None :     1 : False :  True : Binary\n",
      "        (3000006340, 3.5) :     0 :  None :     1 : False :  True : Binary\n",
      "        (3800031829, 2.5) :     0 :  None :     1 : False :  True : Binary\n",
      "        (3800031829, 3.0) :     0 :  None :     1 : False :  True : Binary\n",
      "        (3800031829, 3.5) :     0 :  None :     1 : False :  True : Binary\n",
      "\n",
      "1 Objective Declarations\n",
      "    OBJ : Size=1, Index=None, Active=True\n",
      "        Key  : Active : Sense    : Expression\n",
      "        None :   True : maximize : 237.5*x[1600027528,2.5] + 201.0*x[1600027528,3.0] + 161.0*x[1600027528,3.5] + 60.0*x[1600027564,2.5] + 69.0*x[1600027564,3.0] + 70.0*x[1600027564,3.5] + 15.0*x[3000006340,2.5] + 12.0*x[3000006340,3.0] + 10.5*x[3000006340,3.5] + 82.5*x[3800031829,2.5] + 72.0*x[3800031829,3.0] + 70.0*x[3800031829,3.5]\n",
      "\n",
      "2 Constraint Declarations\n",
      "    PriceChoiceUPC : Size=4, Index=PriceChoiceUPC_index, Active=True\n",
      "        Key : Lower : Body                                                      : Upper : Active\n",
      "          1 :   1.0 : x[1600027528,2.5] + x[1600027528,3.0] + x[1600027528,3.5] :   1.0 :   True\n",
      "          2 :   1.0 : x[1600027564,2.5] + x[1600027564,3.0] + x[1600027564,3.5] :   1.0 :   True\n",
      "          3 :   1.0 : x[3000006340,2.5] + x[3000006340,3.0] + x[3000006340,3.5] :   1.0 :   True\n",
      "          4 :   1.0 : x[3800031829,2.5] + x[3800031829,3.0] + x[3800031829,3.5] :   1.0 :   True\n",
      "    sumPrice : Size=1, Index=sumPrice_index, Active=True\n",
      "        Key : Lower : Body                                                                                                                                                                                                                                                                                          : Upper : Active\n",
      "          1 :  12.0 : 2.5*x[1600027528,2.5] + 3.0*x[1600027528,3.0] + 3.5*x[1600027528,3.5] + 2.5*x[1600027564,2.5] + 3.0*x[1600027564,3.0] + 3.5*x[1600027564,3.5] + 2.5*x[3000006340,2.5] + 3.0*x[3000006340,3.0] + 3.5*x[3000006340,3.5] + 2.5*x[3800031829,2.5] + 3.0*x[3800031829,3.0] + 3.5*x[3800031829,3.5] :  12.0 :   True\n",
      "\n",
      "9 Declarations: x_index_0 x_index_1 x_index x PriceChoiceUPC_index PriceChoiceUPC sumPrice_index sumPrice OBJ\n"
     ]
    }
   ],
   "source": [
    "model.pprint()"
   ]
  },
  {
   "cell_type": "code",
   "execution_count": 9,
   "metadata": {
    "id": "a0KA-DNX8RqA"
   },
   "outputs": [
    {
     "name": "stdout",
     "output_type": "stream",
     "text": [
      "Model unknown\n",
      "\n",
      "  Variables:\n",
      "    x : Size=12, Index=x_index\n",
      "        Key               : Lower : Value : Upper : Fixed : Stale : Domain\n",
      "        (1600027528, 2.5) :     0 :   1.0 :     1 : False : False : Binary\n",
      "        (1600027528, 3.0) :     0 :   0.0 :     1 : False : False : Binary\n",
      "        (1600027528, 3.5) :     0 :   0.0 :     1 : False : False : Binary\n",
      "        (1600027564, 2.5) :     0 :   0.0 :     1 : False : False : Binary\n",
      "        (1600027564, 3.0) :     0 :   0.0 :     1 : False : False : Binary\n",
      "        (1600027564, 3.5) :     0 :   1.0 :     1 : False : False : Binary\n",
      "        (3000006340, 2.5) :     0 :   0.0 :     1 : False : False : Binary\n",
      "        (3000006340, 3.0) :     0 :   0.0 :     1 : False : False : Binary\n",
      "        (3000006340, 3.5) :     0 :   1.0 :     1 : False : False : Binary\n",
      "        (3800031829, 2.5) :     0 :   1.0 :     1 : False : False : Binary\n",
      "        (3800031829, 3.0) :     0 :   0.0 :     1 : False : False : Binary\n",
      "        (3800031829, 3.5) :     0 :   0.0 :     1 : False : False : Binary\n",
      "\n",
      "  Objectives:\n",
      "    OBJ : Size=1, Index=None, Active=True\n",
      "        Key  : Active : Value\n",
      "        None :   True : 400.5\n",
      "\n",
      "  Constraints:\n",
      "    PriceChoiceUPC : Size=4\n",
      "        Key : Lower : Body : Upper\n",
      "          1 :   1.0 :  1.0 :   1.0\n",
      "          2 :   1.0 :  1.0 :   1.0\n",
      "          3 :   1.0 :  1.0 :   1.0\n",
      "          4 :   1.0 :  1.0 :   1.0\n",
      "    sumPrice : Size=1\n",
      "        Key : Lower : Body : Upper\n",
      "          1 :  12.0 : 12.0 :  12.0\n"
     ]
    }
   ],
   "source": [
    "# Solve the model\n",
    "opt = SolverFactory('glpk')\n",
    "opt.solve(model)\n",
    "\n",
    "model.display()"
   ]
  },
  {
   "cell_type": "code",
   "execution_count": null,
   "metadata": {},
   "outputs": [],
   "source": []
  }
 ],
 "metadata": {
  "colab": {
   "name": "S9_Module2B_Retail_Price_Optimization_Script.ipynb",
   "provenance": []
  },
  "kernelspec": {
   "display_name": "Python 3 (ipykernel)",
   "language": "python",
   "name": "python3"
  },
  "language_info": {
   "codemirror_mode": {
    "name": "ipython",
    "version": 3
   },
   "file_extension": ".py",
   "mimetype": "text/x-python",
   "name": "python",
   "nbconvert_exporter": "python",
   "pygments_lexer": "ipython3",
   "version": "3.8.20"
  }
 },
 "nbformat": 4,
 "nbformat_minor": 4
}